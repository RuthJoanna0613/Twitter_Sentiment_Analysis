{
 "cells": [
  {
   "cell_type": "markdown",
   "metadata": {},
   "source": [
    "### Importing all Libraries"
   ]
  },
  {
   "cell_type": "code",
   "execution_count": 1,
   "metadata": {},
   "outputs": [
    {
     "name": "stderr",
     "output_type": "stream",
     "text": [
      "[nltk_data] Downloading package vader_lexicon to\n",
      "[nltk_data]     /Users/kaushik/nltk_data...\n",
      "[nltk_data]   Package vader_lexicon is already up-to-date!\n"
     ]
    }
   ],
   "source": [
    "import os\n",
    "import pandas as pd\n",
    "import matplotlib.pyplot as plt\n",
    "import seaborn as sns\n",
    "import itertools\n",
    "import collections\n",
    "import tweepy as tw\n",
    "import nltk\n",
    "from nltk.corpus import stopwords\n",
    "import re\n",
    "import networkx\n",
    "import warnings\n",
    "warnings.filterwarnings(\"ignore\")\n",
    "import nltk\n",
    "nltk.download('vader_lexicon')\n",
    "from nltk.sentiment.vader import SentimentIntensityAnalyzer\n",
    "sns.set(font_scale=1.5)\n",
    "sns.set_style(\"whitegrid\")\n",
    "import sqlite3"
   ]
  },
  {
   "cell_type": "markdown",
   "metadata": {},
   "source": [
    "### Keys required to connect to Twitter API"
   ]
  },
  {
   "cell_type": "code",
   "execution_count": 2,
   "metadata": {},
   "outputs": [],
   "source": [
    "Consumer_Key=\"7ULNGRHNK9zJIxjc5KLxuMTeZ\"\n",
    "Consumer_Secret=\"1jPRtvBFxvZwUzd9Gk9gUvYSMnLHrBEQrcVieQjGeEDqSPnnTf\"\n",
    "Access_Token=\"1458418334081425410-GiOCzDRZDkCVCOxPgVcpBSv7454OQV\"\n",
    "Access_Secret=\"k58HmCgCHH7cfjChhMJyhJSHeZ0UGo6f0MjYNxR0H1gt6\""
   ]
  },
  {
   "cell_type": "markdown",
   "metadata": {},
   "source": [
    "### Function to authenticate with Twitter API"
   ]
  },
  {
   "cell_type": "code",
   "execution_count": 3,
   "metadata": {},
   "outputs": [],
   "source": [
    "def tweet_api_authentication(Consumer_Key, Consumer_Secret, Access_Token, Access_Secret):\n",
    "    \"\"\"\n",
    "        /********------------------Function to authenticate with Twitter API------------------------------********/\n",
    "             \n",
    "                 - Consumer_Key: Provided by Twitter API dashboard\n",
    "                 - Consumer_Secret: Secret key provided by Twitter API dashboard\n",
    "                 - Access_Token: Token provided by Twitter API dashboard\n",
    "                 - Access_Secret: Secret Access key provided by Twitter API dashboard\n",
    "            \n",
    "            Please check the twitter API docs for more information: https://developer.twitter.com/en/docs/twitter-api/getting-started/getting-access-to-the-twitter-api\n",
    "        /********-----------------------------------------------------------------------------------------********/\n",
    "    \"\"\"\n",
    "    auth = tw.OAuthHandler(Consumer_Key,Consumer_Secret)\n",
    "    auth.set_access_token(Access_Token,Access_Secret)\n",
    "    api = tw.API(auth, wait_on_rate_limit = True)\n",
    "    return api\n",
    "api = tweet_api_authentication(Consumer_Key, Consumer_Secret, Access_Token, Access_Secret)"
   ]
  },
  {
   "cell_type": "markdown",
   "metadata": {},
   "source": [
    "### Function to fetch tweets for API"
   ]
  },
  {
   "cell_type": "code",
   "execution_count": 4,
   "metadata": {},
   "outputs": [],
   "source": [
    "def fetch_tweets_from_api(key_word_string, api_object, size):\n",
    "    \"\"\"\n",
    "        /*****------------------Function to fetch tweets from Twitter API-------------------------******/\n",
    "        \n",
    "            - key_word_string: Enter a string with keywords to fetch tweets\n",
    "                               example: Food OR food OR Foodie OR Delicious OR Breakfast OR Lunch OR Dinner\n",
    "            - api_object: Twitter API authenticated object. (Check func tweet_api_authentication() to create object)\n",
    "\n",
    "        /******----------------------------------------------------------------------------------******/\n",
    "    \"\"\"\n",
    "    search_tweets = key_word_string +  \"-filter:retweets\"\n",
    "    tweets = tw.Cursor(api_object.search_tweets,\n",
    "                            q = search_tweets,\n",
    "                            lang=\"en\",\n",
    "                            tweet_mode=\"extended\"\n",
    "                            ).items(size)\n",
    "    tweets_list = [[tweet.created_at, tweet.place, tweet.user.name, \n",
    "                         tweet.full_text] for tweet in tweets]\n",
    "    \n",
    "    return tweets_list"
   ]
  },
  {
   "cell_type": "markdown",
   "metadata": {},
   "source": [
    "### Class to create a database and new tables for each tweet fetch"
   ]
  },
  {
   "cell_type": "code",
   "execution_count": 5,
   "metadata": {},
   "outputs": [
    {
     "name": "stdout",
     "output_type": "stream",
     "text": [
      "Help on class database_operations in module __main__:\n",
      "\n",
      "class database_operations(builtins.object)\n",
      " |  database_operations(table_name, tweets_list)\n",
      " |  \n",
      " |  /*****________________Class to write and read tweets into database________________*****/\n",
      " |  \n",
      " |  Methods defined here:\n",
      " |  \n",
      " |  __init__(self, table_name, tweets_list)\n",
      " |      While initializing class object pass arguements:\n",
      " |          - table_name: Name of table to be created for tweets\n",
      " |          - tweets_list: List of tweets fetched from API (The list must contain, Date, Place, Username, Tweet)\n",
      " |                         Check func fetch_tweets_from_api() for more help\n",
      " |  \n",
      " |  clean_tweet(self, txt)\n",
      " |      Function to remove urls, symbols, retweet symbols\n",
      " |          - txt: Text to be cleaned\n",
      " |  \n",
      " |  create_connection(self)\n",
      " |      Create Connection with tweets database using SQLLite3\n",
      " |  \n",
      " |  create_table_from_dataframe(self)\n",
      " |      Creating SQLLite3 Table from a pandas dataframe with given list of tweets\n",
      " |      Database Columns = ['Created at', 'Place', 'User', 'Text']\n",
      " |  \n",
      " |  get_table(self)\n",
      " |      Returns the table name of current object\n",
      " |  \n",
      " |  read_from_table(self)\n",
      " |      Reading data from SQLLite3 DATABASE tweets_database\n",
      " |  \n",
      " |  ----------------------------------------------------------------------\n",
      " |  Data descriptors defined here:\n",
      " |  \n",
      " |  __dict__\n",
      " |      dictionary for instance variables (if defined)\n",
      " |  \n",
      " |  __weakref__\n",
      " |      list of weak references to the object (if defined)\n",
      "\n",
      "food\n",
      "read \n",
      "                   Created at Place               User  \\\n",
      "0  2021-12-06 22:49:59+00:00  None   kamyar shirallie   \n",
      "1  2021-12-06 22:32:37+00:00  None        David Sharp   \n",
      "2  2021-12-06 22:21:06+00:00  None    martin beaulieu   \n",
      "3  2021-12-06 22:14:53+00:00  None          R Zechman   \n",
      "4  2021-12-06 22:13:58+00:00  None  🌚🎄✞ ☯︎ guy ⚜︎🎅🏻🥀🌞   \n",
      "\n",
      "                                              Tweets  \\\n",
      "0  GOP Rep. Devin Nunes to retire, will be CEO of...   \n",
      "1  You're doing good work to convince me that DeS...   \n",
      "2  @AlexAlvarova The bold red is good. Highlights...   \n",
      "3  @RepMTG @replouiegohmert @RepMattGaetz @RepGos...   \n",
      "4  Wtf is the point of tying your campaign to an ...   \n",
      "\n",
      "                                      Cleaned_Tweets  \n",
      "0  GOP Rep. Devin Nunes to retire, will be CEO of...  \n",
      "1  You're doing good work to convince me that DeS...  \n",
      "2   The bold red is good. Highlights your name be...  \n",
      "3       Two tier justice system one for the peopl...  \n",
      "4  Wtf is the point of tying your campaign to an ...  \n"
     ]
    }
   ],
   "source": [
    "class database_operations():\n",
    "    \"\"\"\n",
    "    \n",
    "        /*****________________Class to write and read tweets into database________________*****/   \n",
    "        \n",
    "    \"\"\"\n",
    "    def __init__(self, table_name, tweets_list):\n",
    "        \"\"\"\n",
    "        \n",
    "            While initializing class object pass arguements:\n",
    "                - table_name: Name of table to be created for tweets\n",
    "                - tweets_list: List of tweets fetched from API (The list must contain, Date, Place, Username, Tweet)\n",
    "                               Check func fetch_tweets_from_api() for more help\n",
    "        \"\"\"\n",
    "        self.table_name = table_name\n",
    "        self.tweets_list = tweets_list\n",
    "    \n",
    "    def get_table(self):\n",
    "        \"\"\"\n",
    "        \n",
    "            Returns the table name of current object\n",
    "        \"\"\"\n",
    "        return self.table_name\n",
    "    \n",
    "    def create_connection(self):\n",
    "        \"\"\"\n",
    "        \n",
    "            Create Connection with tweets database using SQLLite3\n",
    "        \"\"\"\n",
    "        conn = sqlite3.connect('tweets_database')\n",
    "        cursor = conn.cursor()\n",
    "        return [conn, cursor]\n",
    "    \n",
    "    def clean_tweet(self, txt):\n",
    "        \"\"\"\n",
    "            Function to remove urls, symbols, retweet symbols\n",
    "                - txt: Text to be cleaned\n",
    "        \"\"\"\n",
    "        txt = re.sub(r'@[A-Za-z0-9_]+', '', txt) # Keeps text A-Z, a-z, 0-9\n",
    "        txt = re.sub(r'#[A-Z0-9]+', '', txt)\n",
    "        txt = re.sub(r'RT : ', '', txt)\n",
    "        txt = re.sub(r'https?:\\/\\/[A-Za-z0-9\\.\\/]+', '', txt) # remove url\n",
    "        txt = re.sub(r'&amp;', '', txt)\n",
    "        txt = re.sub(r'ðŸ™', '', txt)\n",
    "        txt = re.sub(r'\\n', ' ', txt) \n",
    "        return txt\n",
    "        \n",
    "    def create_table_from_dataframe(self):\n",
    "        \"\"\"\n",
    "            Creating SQLLite3 Table from a pandas dataframe with given list of tweets\n",
    "            Database Columns = ['Created at', 'Place', 'User', 'Text']\n",
    "        \"\"\"\n",
    "        conn, cursor = self.create_connection()\n",
    "        cursor.execute(f\"CREATE TABLE IF NOT EXISTS {self.table_name} (created_at text, place text, user text, tweet text, cleaned_tweets text)\")\n",
    "        conn.commit()\n",
    "        tweets_df = pd.DataFrame(self.tweets_list, columns = ['Created at', 'Place', 'User', 'Tweets'])\n",
    "        tweets_df['Cleaned_Tweets'] = tweets_df['Tweets'].apply(self.clean_tweet)\n",
    "        tweets_df.to_sql(self.table_name, conn, if_exists='replace', index = False)\n",
    "        \n",
    "    def read_from_table(self):\n",
    "        \"\"\"\n",
    "            Reading data from SQLLite3 DATABASE tweets_database \n",
    "            \n",
    "        \"\"\"\n",
    "        conn, cursor = self.create_connection()\n",
    "        cursor.execute(f\"SELECT * FROM {self.table_name}\")\n",
    "        tweets_df = pd.DataFrame(cursor.fetchall(), columns = ['Created at', 'Place', 'User', \n",
    "                                                               'Tweets', 'Cleaned_Tweets'])\n",
    "        return tweets_df\n",
    "\n",
    "    # Food OR food OR Foodie OR Delicious OR Breakfast OR Lunch OR Dinner\n",
    "key_words = \"trump sucks\"\n",
    "tweets_list = fetch_tweets_from_api(key_words, api, 5)\n",
    "help(database_operations)\n",
    "db = database_operations('food', tweets_list)\n",
    "db.create_table_from_dataframe()\n",
    "print(db.get_table())\n",
    "tweets_df = db.read_from_table()\n",
    "print(\"read \\n\", tweets_df.head())"
   ]
  },
  {
   "cell_type": "code",
   "execution_count": 6,
   "metadata": {},
   "outputs": [
    {
     "name": "stdout",
     "output_type": "stream",
     "text": [
      "tweet: GOP Rep. Devin Nunes to retire, will be CEO of Trump media org  via    You might as well. from ASS Kisser who kissed the ring, now a CEO for the CORRUPT. Suits you just fine. SHAME. Sucks to be YOU.\n",
      "this tweet is 20.4% negative, 61.8% neutral, 17.8% positive\n",
      "\n",
      "tweet: You're doing good work to convince me that DeSantis actually sucks. There's definitely a problem with all the wuss cons getting behind him as an alternative to Trump, regardless of Trump's problems. \n",
      "this tweet is 19.5% negative, 61.7% neutral, 18.8% positive\n",
      "\n",
      "tweet:  The bold red is good. Highlights your name better. The white bold font is too much. And of course, trump's picture on both sucks.\n",
      "this tweet is 7.7% negative, 58.5% neutral, 33.8% positive\n",
      "\n",
      "tweet:      Two tier justice system one for the people and none for you insurrectionists who stormed the capitol for Donald capone Trump  yes you are right our justice system sucks.\n",
      "this tweet is 6.8% negative, 67.6% neutral, 25.7% positive\n",
      "\n",
      "tweet: Wtf is the point of tying your campaign to an ineffectual moron like Trump who didn’t accomplish a thing in 4 years and then proceeded to blame everything on his opponents while his supporters flailed their arms screaming about stolen elections instead of realizing he just sucks? \n",
      "this tweet is 31.5% negative, 55.5% neutral, 13.0% positive\n",
      "\n"
     ]
    }
   ],
   "source": [
    "class handle_model():\n",
    "    def __init__(self, ml_model):\n",
    "        \"\"\"\n",
    "            While initializing class you need to pass the model as an arguement\n",
    "                - model: The model you want to use for Sentiment Analysis\n",
    "        \"\"\"\n",
    "        self.ml_model = ml_model\n",
    "    \n",
    "    def predict(self, tweets_df):\n",
    "        \"\"\"\n",
    "            Function to predict sentiments of given tweets\n",
    "                - tweets_df: tweets dataframe created from fetching tweets from API, more help look at\n",
    "                  class database_operations\n",
    "        \"\"\"\n",
    "        key_list = ['neg', 'neu', 'pos']\n",
    "        tweet_response_list = []\n",
    "        for index, tweet in tweets_df['Cleaned_Tweets'].iteritems():\n",
    "            score = self.ml_model.polarity_scores(tweet)\n",
    "            tweet_response_list.append([f\"tweet: {tweet}\", f\"this tweet is {round(score['neg']*100, 2)}% negative, {round(score['neu']*100, 2)}% neutral, {round(score['pos']*100, 2)}% positive\"])\n",
    "            print(f\"tweet: {tweet}\")\n",
    "            print(f\"this tweet is {round(score['neg']*100, 2)}% negative, {round(score['neu']*100, 2)}% neutral, {round(score['pos']*100, 2)}% positive\")\n",
    "            print()\n",
    "        return tweet_response_list\n",
    "\n",
    "m = handle_model(SentimentIntensityAnalyzer())            \n",
    "prediction_list = m.predict(tweets_df)"
   ]
  },
  {
   "cell_type": "markdown",
   "metadata": {},
   "source": [
    "### Testing the UI using a flask app for production"
   ]
  },
  {
   "cell_type": "markdown",
   "metadata": {},
   "source": [
    "#### Importing required libraries"
   ]
  },
  {
   "cell_type": "code",
   "execution_count": 7,
   "metadata": {},
   "outputs": [],
   "source": [
    "from flask import Flask, request, redirect, url_for, session, render_template\n",
    "from werkzeug.utils import secure_filename\n",
    "import logging"
   ]
  },
  {
   "cell_type": "markdown",
   "metadata": {},
   "source": [
    "#### Setting a logger to log request information"
   ]
  },
  {
   "cell_type": "code",
   "execution_count": 8,
   "metadata": {},
   "outputs": [],
   "source": [
    "logging.basicConfig(level=logging.INFO)\n",
    "\n",
    "logger = logging.getLogger('HELLO WORLD')"
   ]
  },
  {
   "cell_type": "markdown",
   "metadata": {},
   "source": [
    "#### Initializing a flask app"
   ]
  },
  {
   "cell_type": "code",
   "execution_count": 9,
   "metadata": {},
   "outputs": [],
   "source": [
    "app = Flask(__name__)"
   ]
  },
  {
   "cell_type": "markdown",
   "metadata": {},
   "source": [
    "#### defining routes for the app"
   ]
  },
  {
   "cell_type": "code",
   "execution_count": 10,
   "metadata": {},
   "outputs": [],
   "source": [
    "@app.route('/upload',methods=['POST'])\n",
    "def get_keywords_perform_predictions():\n",
    "    api = tweet_api_authentication(Consumer_Key, Consumer_Secret, Access_Token, Access_Secret)\n",
    "    tweets_list = fetch_tweets_from_api(request.form['keyword_string'], api, int(request.form['size']))\n",
    "    db = database_operations(request.form['table_name'], tweets_list)\n",
    "    db.create_table_from_dataframe()\n",
    "    tweets_df = db.read_from_table()\n",
    "    m = handle_model(SentimentIntensityAnalyzer())            \n",
    "    prediction_list = m.predict(tweets_df)\n",
    "    return render_template('response.html', tables=[tweets_df.to_html(classes='data')], \n",
    "                           titles=tweets_df.columns.values, prediction_list = prediction_list)\n",
    "\n",
    "@app.route('/', methods = ['GET'])\n",
    "def refresh():\n",
    "    return render_template(\"home.html\")"
   ]
  },
  {
   "cell_type": "markdown",
   "metadata": {},
   "source": [
    "#### Instance to run the flask server"
   ]
  },
  {
   "cell_type": "code",
   "execution_count": null,
   "metadata": {},
   "outputs": [
    {
     "name": "stdout",
     "output_type": "stream",
     "text": [
      " * Serving Flask app \"__main__\" (lazy loading)\n",
      " * Environment: production\n",
      "\u001b[31m   WARNING: This is a development server. Do not use it in a production deployment.\u001b[0m\n",
      "\u001b[2m   Use a production WSGI server instead.\u001b[0m\n",
      " * Debug mode: on\n"
     ]
    },
    {
     "name": "stderr",
     "output_type": "stream",
     "text": [
      "INFO:werkzeug: * Running on http://127.0.0.1:5000/ (Press CTRL+C to quit)\n",
      "INFO:werkzeug:127.0.0.1 - - [07/Dec/2021 00:07:44] \"\u001b[37mPOST /upload HTTP/1.1\u001b[0m\" 200 -\n"
     ]
    },
    {
     "name": "stdout",
     "output_type": "stream",
     "text": [
      "tweet: Once again Donald Trump making a mockery of American justice, daring authorities to come arrest him if they have the balls. \n",
      "this tweet is 17.7% negative, 60.2% neutral, 22.2% positive\n",
      "\n",
      "tweet: Breaking News, Mark Short with access on January 6th to Mike Pence  Donald Trump, a Top Pence Aide is Cooperating with the House Committee. He was Privy to so much live on Insurrection Day. Peeling back more layers of the Onion. Yes. Follow   be informed First. TKY.\n",
      "this tweet is 0.0% negative, 90.7% neutral, 9.3% positive\n",
      "\n",
      "tweet:  Trump's GQP is the most dishonest destructive corrosive  dangerous organization on the world stage. The lies that they pour into the uneducated undermine democracy  the US Government while promoting Covid deaths, hate crimes, school shootings, murder, election fraud  violence.\n",
      "this tweet is 50.9% negative, 45.2% neutral, 3.9% positive\n",
      "\n",
      "tweet: If you're going to run on how damn smart you are and how much you believe science you probably shouldn't invite the idea that you're handling this worse than Trump \n",
      "this tweet is 21.3% negative, 71.3% neutral, 7.4% positive\n",
      "\n",
      "tweet: We are experiencing a dress rehearsal for an all-out assault on Democracy. In 2024 Trump and his associates will have eroded public confidence in institutions to the point that if he is elected, his associates will see to it that Democracy falls.\n",
      "this tweet is 8.2% negative, 84.6% neutral, 7.2% positive\n",
      "\n"
     ]
    }
   ],
   "source": [
    "app.run(debug=True, host=\"127.0.0.1\", use_reloader=False)"
   ]
  },
  {
   "cell_type": "code",
   "execution_count": null,
   "metadata": {},
   "outputs": [],
   "source": []
  }
 ],
 "metadata": {
  "kernelspec": {
   "display_name": "Python 3",
   "language": "python",
   "name": "python3"
  },
  "language_info": {
   "codemirror_mode": {
    "name": "ipython",
    "version": 3
   },
   "file_extension": ".py",
   "mimetype": "text/x-python",
   "name": "python",
   "nbconvert_exporter": "python",
   "pygments_lexer": "ipython3",
   "version": "3.8.5"
  }
 },
 "nbformat": 4,
 "nbformat_minor": 4
}
